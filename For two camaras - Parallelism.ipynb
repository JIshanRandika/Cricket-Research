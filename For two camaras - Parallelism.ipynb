{
 "cells": [
  {
   "cell_type": "code",
   "execution_count": null,
   "id": "e786b83d",
   "metadata": {},
   "outputs": [],
   "source": [
    "import cv2\n",
    "from cv2 import destroyAllWindows\n",
    "import mediapipe as mp\n",
    "import numpy as np\n",
    "mp_drawing = mp.solutions.drawing_utils\n",
    "mp_drawing_styles = mp.solutions.drawing_styles\n",
    "mp_pose = mp.solutions.pose"
   ]
  },
  {
   "cell_type": "code",
   "execution_count": null,
   "id": "3571af2d",
   "metadata": {},
   "outputs": [],
   "source": [
    "def calculate_angle(a,b,c):\n",
    "    a = np.array(a) # First\n",
    "    b = np.array(b) # Mid\n",
    "    c = np.array(c) # End\n",
    "    \n",
    "    radians = np.arctan2(c[1]-b[1], c[0]-b[0]) - np.arctan2(a[1]-b[1], a[0]-b[0])\n",
    "    angle = np.abs(radians*180.0/np.pi)\n",
    "    \n",
    "    if angle >180.0:\n",
    "        angle = 360-angle\n",
    "        \n",
    "    return angle"
   ]
  },
  {
   "cell_type": "code",
   "execution_count": null,
   "id": "35f8cc4b",
   "metadata": {},
   "outputs": [],
   "source": [
    "def rescale_frame(frame, percent=50):\n",
    "    width = int(frame.shape[1] * percent/ 100)\n",
    "    height = int(frame.shape[0] * percent/ 100)\n",
    "    dim = (width, height)\n",
    "    return cv2.resize(frame, dim, interpolation =cv2.INTER_AREA)"
   ]
  },
  {
   "cell_type": "code",
   "execution_count": null,
   "id": "d27f3bc1",
   "metadata": {},
   "outputs": [],
   "source": [
    "import multiprocessing\n",
    "import time\n",
    "\n",
    "def function1():\n",
    "    print(\"Function 1 started\")\n",
    "    time.sleep(2)  # Simulating some work\n",
    "    print(\"Function 1 completed\")\n",
    "    return \"Result from Function 1\"\n",
    "\n",
    "def function2():\n",
    "    print(\"Function 2 started\")\n",
    "    time.sleep(1)  # Simulating some work\n",
    "    print(\"Function 2 completed\")\n",
    "    return \"Result from Function 2\"\n",
    "\n",
    "def function3():\n",
    "    print(\"Function 3 started\")\n",
    "    time.sleep(3)  # Simulating some work\n",
    "    print(\"Function 3 completed\")\n",
    "    return \"Result from Function 3\"\n",
    "\n",
    "def run_function(func):\n",
    "    return func()\n",
    "\n",
    "if __name__ == '__main__':\n",
    "    start_time = time.time()\n",
    "\n",
    "    # Create a pool of worker processes\n",
    "    with multiprocessing.Pool(processes=3) as pool:\n",
    "        # Start the functions in parallel\n",
    "        results = pool.map(run_function, [function1, function2, function3])\n",
    "\n",
    "    end_time = time.time()\n",
    "\n",
    "    # Print results\n",
    "    for i, result in enumerate(results, 1):\n",
    "        print(f\"Result from Function {i}: {result}\")\n",
    "\n",
    "    print(f\"All functions completed in {end_time - start_time:.2f} seconds\")"
   ]
  },
  {
   "cell_type": "code",
   "execution_count": null,
   "id": "91532f79",
   "metadata": {},
   "outputs": [],
   "source": []
  },
  {
   "cell_type": "code",
   "execution_count": null,
   "id": "34c73080",
   "metadata": {},
   "outputs": [],
   "source": []
  }
 ],
 "metadata": {
  "kernelspec": {
   "display_name": "Python 3 (ipykernel)",
   "language": "python",
   "name": "python3"
  },
  "language_info": {
   "codemirror_mode": {
    "name": "ipython",
    "version": 3
   },
   "file_extension": ".py",
   "mimetype": "text/x-python",
   "name": "python",
   "nbconvert_exporter": "python",
   "pygments_lexer": "ipython3",
   "version": "3.9.7"
  }
 },
 "nbformat": 4,
 "nbformat_minor": 5
}
