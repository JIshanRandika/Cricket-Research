{
 "cells": [
  {
   "cell_type": "code",
   "execution_count": 1,
   "id": "444927fb-4f71-43f4-bf85-b26a1cfd7c6a",
   "metadata": {},
   "outputs": [],
   "source": [
    "import os\n",
    "import pandas as pd\n",
    "import numpy as np\n",
    "from sklearn.model_selection import train_test_split\n",
    "from sklearn.preprocessing import StandardScaler\n",
    "from tensorflow.keras.models import Sequential, load_model\n",
    "from tensorflow.keras.layers import LSTM, Dense, Dropout\n",
    "from tensorflow.keras.optimizers import Adam\n",
    "from tensorflow.keras.utils import to_categorical\n",
    "from tensorflow.keras.callbacks import EarlyStopping, ReduceLROnPlateau\n",
    "from tensorflow.keras.preprocessing.sequence import pad_sequences\n",
    "from sklearn.metrics import accuracy_score, classification_report, confusion_matrix"
   ]
  },
  {
   "cell_type": "code",
   "execution_count": 2,
   "id": "2f09881e-5564-45be-81b7-cd352e487225",
   "metadata": {},
   "outputs": [],
   "source": [
    "# Define folder paths for each batting shot category\n",
    "folders = {\n",
    "    \"cover_drive\": \"./cover_drive\",\n",
    "    \"pull_shot\": \"./pull_shot\",\n",
    "    \"wrong_shot\": \"./wrong_shot\"\n",
    "}"
   ]
  },
  {
   "cell_type": "code",
   "execution_count": 3,
   "id": "1dbb399d-b6a0-4118-9fc9-3ffd68025f15",
   "metadata": {},
   "outputs": [],
   "source": [
    "# Initialize data and labels\n",
    "data = []\n",
    "labels = []"
   ]
  },
  {
   "cell_type": "code",
   "execution_count": 4,
   "id": "d008acee-b0e5-4c21-9a94-7c1a018c4e69",
   "metadata": {},
   "outputs": [
    {
     "name": "stdout",
     "output_type": "stream",
     "text": [
      "Processing folder: ./cover_drive, Label: 0\n",
      "Processing folder: ./pull_shot, Label: 1\n",
      "Processing folder: ./wrong_shot, Label: 2\n"
     ]
    }
   ],
   "source": [
    "# Load and preprocess data\n",
    "for label, folder_path in enumerate(folders.values()):\n",
    "    print(f\"Processing folder: {folder_path}, Label: {label}\")\n",
    "\n",
    "    for file in os.listdir(folder_path):\n",
    "        if file.endswith(\".xlsx\"):\n",
    "            file_path = os.path.join(folder_path, file)\n",
    "            \n",
    "            # Load Excel data\n",
    "            df = pd.read_excel(file_path)\n",
    "\n",
    "            # Extract features (time, shoulder, elbow data)\n",
    "            try:\n",
    "                features = df[[\"Time\", \"LShoulder_Avg\", \"LElbow_Avg\"]].values\n",
    "                data.append(features)\n",
    "                labels.append(label)\n",
    "            except KeyError:\n",
    "                print(f\"Missing columns in {file_path}, skipping this file.\")\n"
   ]
  },
  {
   "cell_type": "code",
   "execution_count": 5,
   "id": "038a3a6a-c389-4a0d-9c90-25248bf3a391",
   "metadata": {},
   "outputs": [],
   "source": [
    "# Pad sequences to ensure equal lengths\n",
    "max_length = max(len(seq) for seq in data)\n",
    "data_padded = pad_sequences(data, maxlen=max_length, dtype='float32', padding='post')"
   ]
  },
  {
   "cell_type": "code",
   "execution_count": 6,
   "id": "44a92115-f611-427e-a406-4adcbb642667",
   "metadata": {},
   "outputs": [],
   "source": [
    "# Convert labels to categorical (one-hot encoding)\n",
    "labels_categorical = to_categorical(labels)"
   ]
  },
  {
   "cell_type": "code",
   "execution_count": 7,
   "id": "a614919d-8496-4a22-aabc-5013d58abbc0",
   "metadata": {},
   "outputs": [],
   "source": [
    "# Normalize data\n",
    "scaler = StandardScaler()\n",
    "data_normalized = np.array([scaler.fit_transform(seq) for seq in data_padded])"
   ]
  },
  {
   "cell_type": "code",
   "execution_count": 8,
   "id": "5cda751e-8672-4cc1-ae44-0e0214d763f1",
   "metadata": {},
   "outputs": [],
   "source": [
    "# Split into training and testing sets\n",
    "X_train, X_test, y_train, y_test = train_test_split(data_normalized, labels_categorical, test_size=0.3, random_state=42)"
   ]
  },
  {
   "cell_type": "code",
   "execution_count": 9,
   "id": "6165b6f8-a7d3-4b67-9f2a-91ac8a7d02d9",
   "metadata": {},
   "outputs": [],
   "source": [
    "# Define the LSTM model\n",
    "# model = Sequential([\n",
    "#     LSTM(64, input_shape=(max_length, 3), return_sequences=False),\n",
    "#     Dense(32, activation='relu'),\n",
    "#     Dense(labels_categorical.shape[1], activation='softmax')\n",
    "# ])\n",
    "\n",
    "# model.compile(optimizer='adam', loss='categorical_crossentropy', metrics=['accuracy'])\n",
    "\n",
    "# Define the LSTM model\n",
    "model = Sequential([\n",
    "    LSTM(128, return_sequences=True, input_shape=(X_train.shape[1], X_train.shape[2])),\n",
    "    Dropout(0.3),\n",
    "    LSTM(64),\n",
    "    Dropout(0.3),\n",
    "    Dense(y_train.shape[1], activation='softmax')\n",
    "])\n",
    "\n",
    "model.compile(optimizer=Adam(learning_rate=1e-4), loss='categorical_crossentropy', metrics=['accuracy'])"
   ]
  },
  {
   "cell_type": "code",
   "execution_count": 10,
   "id": "aca56dcd-492a-4fb5-9990-c589fe5e8098",
   "metadata": {},
   "outputs": [],
   "source": [
    "# Define callbacks\n",
    "early_stopping = EarlyStopping(monitor='val_loss', patience=10, restore_best_weights=True)\n",
    "reduce_lr = ReduceLROnPlateau(monitor='val_loss', factor=0.5, patience=5, min_lr=1e-6)"
   ]
  },
  {
   "cell_type": "code",
   "execution_count": 11,
   "id": "9cb33ba5-5189-4361-b264-7ccce4e536c5",
   "metadata": {},
   "outputs": [
    {
     "name": "stdout",
     "output_type": "stream",
     "text": [
      "Epoch 1/50\n",
      "5/5 [==============================] - 23s 3s/step - loss: 1.0952 - accuracy: 0.3481 - val_loss: 1.0948 - val_accuracy: 0.4000 - lr: 1.0000e-04\n",
      "Epoch 2/50\n",
      "5/5 [==============================] - 13s 3s/step - loss: 1.0790 - accuracy: 0.4620 - val_loss: 1.0898 - val_accuracy: 0.4000 - lr: 1.0000e-04\n",
      "Epoch 3/50\n",
      "5/5 [==============================] - 14s 3s/step - loss: 1.0702 - accuracy: 0.4684 - val_loss: 1.0857 - val_accuracy: 0.4250 - lr: 1.0000e-04\n",
      "Epoch 4/50\n",
      "5/5 [==============================] - 13s 3s/step - loss: 1.0568 - accuracy: 0.4684 - val_loss: 1.0827 - val_accuracy: 0.4000 - lr: 1.0000e-04\n",
      "Epoch 5/50\n",
      "5/5 [==============================] - 12s 3s/step - loss: 1.0517 - accuracy: 0.4557 - val_loss: 1.0810 - val_accuracy: 0.4000 - lr: 1.0000e-04\n",
      "Epoch 6/50\n",
      "5/5 [==============================] - 12s 3s/step - loss: 1.0327 - accuracy: 0.5063 - val_loss: 1.0804 - val_accuracy: 0.4000 - lr: 1.0000e-04\n",
      "Epoch 7/50\n",
      "5/5 [==============================] - 12s 3s/step - loss: 1.0288 - accuracy: 0.4241 - val_loss: 1.0808 - val_accuracy: 0.4000 - lr: 1.0000e-04\n",
      "Epoch 8/50\n",
      "5/5 [==============================] - 13s 3s/step - loss: 1.0119 - accuracy: 0.5127 - val_loss: 1.0825 - val_accuracy: 0.4000 - lr: 1.0000e-04\n",
      "Epoch 9/50\n",
      "5/5 [==============================] - 12s 2s/step - loss: 0.9994 - accuracy: 0.5000 - val_loss: 1.0874 - val_accuracy: 0.4000 - lr: 1.0000e-04\n",
      "Epoch 10/50\n",
      "5/5 [==============================] - 13s 3s/step - loss: 0.9837 - accuracy: 0.5063 - val_loss: 1.0932 - val_accuracy: 0.4000 - lr: 1.0000e-04\n",
      "Epoch 11/50\n",
      "5/5 [==============================] - 12s 3s/step - loss: 0.9848 - accuracy: 0.4684 - val_loss: 1.1011 - val_accuracy: 0.4000 - lr: 1.0000e-04\n",
      "Epoch 12/50\n",
      "5/5 [==============================] - 12s 2s/step - loss: 0.9717 - accuracy: 0.4051 - val_loss: 1.1052 - val_accuracy: 0.4000 - lr: 5.0000e-05\n",
      "Epoch 13/50\n",
      "5/5 [==============================] - 12s 3s/step - loss: 0.9776 - accuracy: 0.5063 - val_loss: 1.1098 - val_accuracy: 0.4000 - lr: 5.0000e-05\n",
      "Epoch 14/50\n",
      "5/5 [==============================] - 12s 3s/step - loss: 0.9662 - accuracy: 0.4557 - val_loss: 1.1122 - val_accuracy: 0.4000 - lr: 5.0000e-05\n",
      "Epoch 15/50\n",
      "5/5 [==============================] - 12s 2s/step - loss: 0.9720 - accuracy: 0.4241 - val_loss: 1.1156 - val_accuracy: 0.4000 - lr: 5.0000e-05\n",
      "Epoch 16/50\n",
      "5/5 [==============================] - 9s 2s/step - loss: 0.9638 - accuracy: 0.4557 - val_loss: 1.1155 - val_accuracy: 0.4000 - lr: 5.0000e-05\n"
     ]
    }
   ],
   "source": [
    "# Train the model\n",
    "# history = model.fit(X_train, y_train, epochs=50, batch_size=32, validation_split=0.2)\n",
    "\n",
    "# Train the model\n",
    "history = model.fit(\n",
    "    X_train, y_train,\n",
    "    validation_split=0.2,\n",
    "    epochs=50,\n",
    "    batch_size=32,\n",
    "    callbacks=[early_stopping, reduce_lr]\n",
    ")"
   ]
  },
  {
   "cell_type": "code",
   "execution_count": 12,
   "id": "44007b2e-d8a9-44db-bc38-9929cdcb2f16",
   "metadata": {},
   "outputs": [
    {
     "name": "stdout",
     "output_type": "stream",
     "text": [
      "Model and scaler saved successfully!\n"
     ]
    }
   ],
   "source": [
    "# Save the trained model and scaler\n",
    "model.save(\"lstm_batting_shot_classifier.h5\")\n",
    "np.save(\"lstm_scaler.npy\", scaler.mean_)  # Save scaler mean for normalization\n",
    "print(\"Model and scaler saved successfully!\")"
   ]
  },
  {
   "cell_type": "code",
   "execution_count": 13,
   "id": "336b1a8b-8ac6-4c97-af5e-1eceb0e6da0c",
   "metadata": {},
   "outputs": [],
   "source": [
    "# Evaluate the model\n",
    "y_pred_prob = model.predict(X_test)\n",
    "y_pred = np.argmax(y_pred_prob, axis=1)\n",
    "y_true = np.argmax(y_test, axis=1)"
   ]
  },
  {
   "cell_type": "code",
   "execution_count": 86,
   "id": "ab9e7545-3771-4fdb-8d21-9d1d39c133e2",
   "metadata": {},
   "outputs": [
    {
     "name": "stdout",
     "output_type": "stream",
     "text": [
      "Confusion Matrix:\n",
      " [[2 0 1]\n",
      " [4 0 0]\n",
      " [0 0 0]]\n",
      "\n",
      "Classification Report:\n",
      "               precision    recall  f1-score   support\n",
      "\n",
      "           0       0.33      0.67      0.44         3\n",
      "           1       0.00      0.00      0.00         4\n",
      "           2       0.00      0.00      0.00         0\n",
      "\n",
      "    accuracy                           0.29         7\n",
      "   macro avg       0.11      0.22      0.15         7\n",
      "weighted avg       0.14      0.29      0.19         7\n",
      "\n",
      "\n",
      "Accuracy Score: 0.2857142857142857\n"
     ]
    },
    {
     "name": "stderr",
     "output_type": "stream",
     "text": [
      "C:\\Users\\ASUS\\anaconda3\\lib\\site-packages\\sklearn\\metrics\\_classification.py:1318: UndefinedMetricWarning: Precision and F-score are ill-defined and being set to 0.0 in labels with no predicted samples. Use `zero_division` parameter to control this behavior.\n",
      "  _warn_prf(average, modifier, msg_start, len(result))\n",
      "C:\\Users\\ASUS\\anaconda3\\lib\\site-packages\\sklearn\\metrics\\_classification.py:1318: UndefinedMetricWarning: Recall and F-score are ill-defined and being set to 0.0 in labels with no true samples. Use `zero_division` parameter to control this behavior.\n",
      "  _warn_prf(average, modifier, msg_start, len(result))\n",
      "C:\\Users\\ASUS\\anaconda3\\lib\\site-packages\\sklearn\\metrics\\_classification.py:1318: UndefinedMetricWarning: Precision and F-score are ill-defined and being set to 0.0 in labels with no predicted samples. Use `zero_division` parameter to control this behavior.\n",
      "  _warn_prf(average, modifier, msg_start, len(result))\n",
      "C:\\Users\\ASUS\\anaconda3\\lib\\site-packages\\sklearn\\metrics\\_classification.py:1318: UndefinedMetricWarning: Recall and F-score are ill-defined and being set to 0.0 in labels with no true samples. Use `zero_division` parameter to control this behavior.\n",
      "  _warn_prf(average, modifier, msg_start, len(result))\n",
      "C:\\Users\\ASUS\\anaconda3\\lib\\site-packages\\sklearn\\metrics\\_classification.py:1318: UndefinedMetricWarning: Precision and F-score are ill-defined and being set to 0.0 in labels with no predicted samples. Use `zero_division` parameter to control this behavior.\n",
      "  _warn_prf(average, modifier, msg_start, len(result))\n",
      "C:\\Users\\ASUS\\anaconda3\\lib\\site-packages\\sklearn\\metrics\\_classification.py:1318: UndefinedMetricWarning: Recall and F-score are ill-defined and being set to 0.0 in labels with no true samples. Use `zero_division` parameter to control this behavior.\n",
      "  _warn_prf(average, modifier, msg_start, len(result))\n"
     ]
    }
   ],
   "source": [
    "print(\"Confusion Matrix:\\n\", confusion_matrix(y_true, y_pred))\n",
    "print(\"\\nClassification Report:\\n\", classification_report(y_true, y_pred))\n",
    "print(\"\\nAccuracy Score:\", accuracy_score(y_true, y_pred))"
   ]
  },
  {
   "cell_type": "code",
   "execution_count": 35,
   "id": "76093a47-0e79-46a6-bd29-6db1c39afd9e",
   "metadata": {},
   "outputs": [],
   "source": [
    "# Define label mapping for interpretation\n",
    "label_map = {0: \"square_cut\", 1: \"pull_shot\", 2: \"wrong_shot\"}"
   ]
  },
  {
   "cell_type": "code",
   "execution_count": null,
   "id": "71270d17-3ad8-48d5-bc7e-50462be408f8",
   "metadata": {},
   "outputs": [],
   "source": []
  }
 ],
 "metadata": {
  "kernelspec": {
   "display_name": "Python 3 (ipykernel)",
   "language": "python",
   "name": "python3"
  },
  "language_info": {
   "codemirror_mode": {
    "name": "ipython",
    "version": 3
   },
   "file_extension": ".py",
   "mimetype": "text/x-python",
   "name": "python",
   "nbconvert_exporter": "python",
   "pygments_lexer": "ipython3",
   "version": "3.9.20"
  }
 },
 "nbformat": 4,
 "nbformat_minor": 5
}
